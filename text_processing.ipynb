{
  "cells": [
    {
      "cell_type": "markdown",
      "metadata": {
        "id": "view-in-github",
        "colab_type": "text"
      },
      "source": [
        "<a href=\"https://colab.research.google.com/github/motomura-s/korean-onomatopoeia-list/blob/main/text_processing.ipynb\" target=\"_parent\"><img src=\"https://colab.research.google.com/assets/colab-badge.svg\" alt=\"Open In Colab\"/></a>"
      ]
    },
    {
      "cell_type": "markdown",
      "source": [
        "https://www.korean.go.kr/synap/skin/doc.html?fn=54ec16d4-39eb-45f4-88bc-cc6e600e064a_0.hwp&rs=/attachFile/viewer/202412"
      ],
      "metadata": {
        "id": "I-CTIoZablDh"
      }
    },
    {
      "cell_type": "code",
      "source": [
        "import re\n",
        "import json"
      ],
      "metadata": {
        "id": "2mwJmgRqVNHT"
      },
      "execution_count": 1,
      "outputs": []
    },
    {
      "cell_type": "code",
      "source": [
        "raw_text = open(\"raw_text.txt\", \"r\").read()"
      ],
      "metadata": {
        "id": "23lF6IB8e88Z"
      },
      "execution_count": 2,
      "outputs": []
    },
    {
      "cell_type": "code",
      "source": [
        "pattern = re.compile('[가-힣]+')\n",
        "matches = pattern.findall(raw_text)\n",
        "len(matches), len(set(matches)), matches[:10]"
      ],
      "metadata": {
        "colab": {
          "base_uri": "https://localhost:8080/"
        },
        "id": "nzClQQCwY1LY",
        "outputId": "d0e9ef97-3d1a-4145-d06d-469209cc30a7"
      },
      "execution_count": 3,
      "outputs": [
        {
          "output_type": "execute_result",
          "data": {
            "text/plain": [
              "(29059,\n",
              " 26687,\n",
              " ['가굴가굴',\n",
              "  '가굴가굴하다',\n",
              "  '가꾸러뜨리다',\n",
              "  '가꾸러지다',\n",
              "  '가꾸러트리다',\n",
              "  '가꾸로',\n",
              "  '가년스럽다',\n",
              "  '가년스레',\n",
              "  '가누다',\n",
              "  '가닐'])"
            ]
          },
          "metadata": {},
          "execution_count": 3
        }
      ]
    },
    {
      "cell_type": "code",
      "source": [
        "with open(\"words.txt\", \"w\") as f:\n",
        "    f.write(\"\\n\".join(sorted(set(matches))))"
      ],
      "metadata": {
        "id": "-UM-ya_MbX3J"
      },
      "execution_count": 4,
      "outputs": []
    },
    {
      "cell_type": "code",
      "source": [
        "words = open(\"words.txt\").read().splitlines()\n",
        "len(words)"
      ],
      "metadata": {
        "colab": {
          "base_uri": "https://localhost:8080/"
        },
        "id": "QXg3ACtfzi7V",
        "outputId": "255f55d8-ced0-4f59-de99-e26feaeadbed"
      },
      "execution_count": 5,
      "outputs": [
        {
          "output_type": "execute_result",
          "data": {
            "text/plain": [
              "26687"
            ]
          },
          "metadata": {},
          "execution_count": 5
        }
      ]
    },
    {
      "cell_type": "code",
      "source": [
        "!pip install hgtk japanize-matplotlib koreanize-matplotlib --quiet"
      ],
      "metadata": {
        "colab": {
          "base_uri": "https://localhost:8080/"
        },
        "id": "9PNOTVWe2scI",
        "outputId": "08280bed-b363-47c8-8e8d-a7bc8a05783b"
      },
      "execution_count": 6,
      "outputs": [
        {
          "output_type": "stream",
          "name": "stdout",
          "text": [
            "\u001b[?25l     \u001b[90m━━━━━━━━━━━━━━━━━━━━━━━━━━━━━━━━━━━━━━━━\u001b[0m \u001b[32m0.0/4.1 MB\u001b[0m \u001b[31m?\u001b[0m eta \u001b[36m-:--:--\u001b[0m\r\u001b[2K     \u001b[91m━━━━━━━━━━━━━━━━━━━━\u001b[0m\u001b[91m╸\u001b[0m\u001b[90m━━━━━━━━━━━━━━━━━━━\u001b[0m \u001b[32m2.2/4.1 MB\u001b[0m \u001b[31m65.1 MB/s\u001b[0m eta \u001b[36m0:00:01\u001b[0m\r\u001b[2K     \u001b[91m━━━━━━━━━━━━━━━━━━━━━━━━━━━━━━━━━━━━━━━\u001b[0m\u001b[91m╸\u001b[0m \u001b[32m4.1/4.1 MB\u001b[0m \u001b[31m88.8 MB/s\u001b[0m eta \u001b[36m0:00:01\u001b[0m\r\u001b[2K     \u001b[90m━━━━━━━━━━━━━━━━━━━━━━━━━━━━━━━━━━━━━━━━\u001b[0m \u001b[32m4.1/4.1 MB\u001b[0m \u001b[31m54.4 MB/s\u001b[0m eta \u001b[36m0:00:00\u001b[0m\n",
            "\u001b[?25h  Preparing metadata (setup.py) ... \u001b[?25l\u001b[?25hdone\n",
            "\u001b[2K   \u001b[90m━━━━━━━━━━━━━━━━━━━━━━━━━━━━━━━━━━━━━━━━\u001b[0m \u001b[32m7.9/7.9 MB\u001b[0m \u001b[31m64.9 MB/s\u001b[0m eta \u001b[36m0:00:00\u001b[0m\n",
            "\u001b[?25h  Building wheel for japanize-matplotlib (setup.py) ... \u001b[?25l\u001b[?25hdone\n"
          ]
        }
      ]
    },
    {
      "cell_type": "code",
      "source": [
        "import hgtk\n",
        "import itertools\n",
        "import japanize_matplotlib\n",
        "import koreanize_matplotlib\n",
        "import matplotlib.pyplot as plt"
      ],
      "metadata": {
        "id": "Y77LsXh63Ccg"
      },
      "execution_count": 7,
      "outputs": []
    },
    {
      "cell_type": "code",
      "source": [
        "for i in range(1, 5):\n",
        "    print(i)\n",
        "    for template in itertools.product([\"CV\", \"CVC\"], repeat=i):\n",
        "        print('\"'+f\"{''.join(template)}\"+ '\"' + \": [],\")"
      ],
      "metadata": {
        "colab": {
          "base_uri": "https://localhost:8080/"
        },
        "id": "9IQ_LLwG8vUi",
        "outputId": "f3cef97d-e4a5-4e7d-b948-719e74d020bd"
      },
      "execution_count": 8,
      "outputs": [
        {
          "output_type": "stream",
          "name": "stdout",
          "text": [
            "1\n",
            "\"CV\": [],\n",
            "\"CVC\": [],\n",
            "2\n",
            "\"CVCV\": [],\n",
            "\"CVCVC\": [],\n",
            "\"CVCCV\": [],\n",
            "\"CVCCVC\": [],\n",
            "3\n",
            "\"CVCVCV\": [],\n",
            "\"CVCVCVC\": [],\n",
            "\"CVCVCCV\": [],\n",
            "\"CVCVCCVC\": [],\n",
            "\"CVCCVCV\": [],\n",
            "\"CVCCVCVC\": [],\n",
            "\"CVCCVCCV\": [],\n",
            "\"CVCCVCCVC\": [],\n",
            "4\n",
            "\"CVCVCVCV\": [],\n",
            "\"CVCVCVCVC\": [],\n",
            "\"CVCVCVCCV\": [],\n",
            "\"CVCVCVCCVC\": [],\n",
            "\"CVCVCCVCV\": [],\n",
            "\"CVCVCCVCVC\": [],\n",
            "\"CVCVCCVCCV\": [],\n",
            "\"CVCVCCVCCVC\": [],\n",
            "\"CVCCVCVCV\": [],\n",
            "\"CVCCVCVCVC\": [],\n",
            "\"CVCCVCVCCV\": [],\n",
            "\"CVCCVCVCCVC\": [],\n",
            "\"CVCCVCCVCV\": [],\n",
            "\"CVCCVCCVCVC\": [],\n",
            "\"CVCCVCCVCCV\": [],\n",
            "\"CVCCVCCVCCVC\": [],\n"
          ]
        }
      ]
    },
    {
      "cell_type": "code",
      "source": [
        "words_by_template = {\n",
        "    # 1文字\n",
        "    \"CV\": [], # 새\n",
        "    \"CVC\": [], # 뺨\n",
        "    # 2文字\n",
        "    \"CV-CV\": [], # 뛰뛰\n",
        "    \"CV-CVC\": [], # 매옴\n",
        "    \"CVC-CV\": [], # 멍추\n",
        "    \"CVC-CVC\": [], # 멀뚱\n",
        "    # 3文字\n",
        "    \"CV-CV-CV\": [], # 두르르\n",
        "    \"CVC-CV-CV\": [], # 갈기다\n",
        "    \"CV-CVC-CV\": [], # 나긋이\n",
        "    \"CV-CV-CVC\": [], # 푸드덕\n",
        "    \"CVC-CVC-CV\": [], # 뻔뻔히\n",
        "    \"CVC-CV-CVC\": [], # 콩다콩\n",
        "    \"CV-CVC-CVC\": [], # 차근덕\n",
        "    \"CVC-CVC-CVC\": [], # 쿵닥딱\n",
        "    # 4文字\n",
        "    \"CV-CV-CV-CV\": [], # 꼬지꼬지\n",
        "    \"CV-CV-CV-CVC\": [], # 가마아득\n",
        "    \"CV-CV-CVC-CV\": [], # 미치광이\n",
        "    \"CV-CV-CVC-CVC\": [], # 두리둥둥\n",
        "    \"CV-CVC-CV-CV\": [], # 푸석대다\n",
        "    \"CV-CVC-CV-CVC\": [], # 후들후들\n",
        "    \"CV-CVC-CVC-CV\": [], # 게름뱅이\n",
        "    \"CV-CVC-CVC-CVC\": [], # 화닥뚝닥\n",
        "    \"CVC-CV-CV-CV\": [], # 살그머니\n",
        "    \"CVC-CV-CV-CVC\": [], # 뱐미주룩\n",
        "    \"CVC-CV-CVC-CV\": [], # 옹기옹기\n",
        "    \"CVC-CV-CVC-CVC\": [], # 할래발딱\n",
        "    \"CVC-CVC-CV-CV\": [], # 몽톡하다\n",
        "    \"CVC-CVC-CV-CVC\": [], # 납죽스름\n",
        "    \"CVC-CVC-CVC-CV\": [], # 알금뱅이\n",
        "    \"CVC-CVC-CVC-CVC\": [], # 훌떡훌떡\n",
        "}\n",
        "for word in words:\n",
        "    jamos = hgtk.text.decompose(word, compose_code=\"/\").strip(\"/\").split(\"/\")\n",
        "    if len(jamos) == 1:\n",
        "        if len(jamos[0]) == 2:\n",
        "            words_by_template[\"CV\"].append(word)\n",
        "        elif len(jamos[0]) == 3:\n",
        "            words_by_template[\"CVC\"].append(word)\n",
        "    elif len(jamos) == 2:\n",
        "        if len(jamos[0]) == 2 and len(jamos[1]) == 2:\n",
        "            words_by_template[\"CV-CV\"].append(word)\n",
        "        elif len(jamos[0]) == 2 and len(jamos[1]) == 3:\n",
        "            words_by_template[\"CV-CVC\"].append(word)\n",
        "        elif len(jamos[0]) == 3 and len(jamos[1]) == 2:\n",
        "            words_by_template[\"CVC-CV\"].append(word)\n",
        "        elif len(jamos[0]) == 3 and len(jamos[1]) == 3:\n",
        "            words_by_template[\"CVC-CVC\"].append(word)\n",
        "    elif len(jamos) == 3:\n",
        "        if len(jamos[0]) == 2 and len(jamos[1]) == 2 and len(jamos[2]) == 2:\n",
        "            words_by_template[\"CV-CV-CV\"].append(word)\n",
        "        elif len(jamos[0]) == 3 and len(jamos[1]) == 2 and len(jamos[2]) == 2:\n",
        "            words_by_template[\"CVC-CV-CV\"].append(word)\n",
        "        elif len(jamos[0]) == 2 and len(jamos[1]) == 3 and len(jamos[2]) == 2:\n",
        "            words_by_template[\"CV-CVC-CV\"].append(word)\n",
        "        elif len(jamos[0]) == 2 and len(jamos[1]) == 2 and len(jamos[2]) == 3:\n",
        "            words_by_template[\"CV-CV-CVC\"].append(word)\n",
        "        elif len(jamos[0]) == 3 and len(jamos[1]) == 3 and len(jamos[2]) == 2:\n",
        "            words_by_template[\"CVC-CVC-CV\"].append(word)\n",
        "        elif len(jamos[0]) == 3 and len(jamos[1]) == 2 and len(jamos[2]) == 3:\n",
        "            words_by_template[\"CVC-CV-CVC\"].append(word)\n",
        "        elif len(jamos[0]) == 2 and len(jamos[1]) == 3 and len(jamos[2]) == 3:\n",
        "            words_by_template[\"CV-CVC-CVC\"].append(word)\n",
        "        elif len(jamos[0]) == 3 and len(jamos[1]) == 3 and len(jamos[2]) == 3:\n",
        "            words_by_template[\"CVC-CVC-CVC\"].append(word)\n",
        "    elif len(jamos) == 4:\n",
        "        if len(jamos[0]) == 2 and len(jamos[1]) == 2 and len(jamos[2]) == 2 and len(jamos[3]) == 2:\n",
        "            words_by_template[\"CV-CV-CV-CV\"].append(word)\n",
        "        elif len(jamos[0]) == 2 and len(jamos[1]) == 2 and len(jamos[2]) == 2 and len(jamos[3]) == 3:\n",
        "            words_by_template[\"CV-CV-CV-CVC\"].append(word)\n",
        "        elif len(jamos[0]) == 2 and len(jamos[1]) == 2 and len(jamos[2]) == 3 and len(jamos[3]) == 2:\n",
        "            words_by_template[\"CV-CV-CVC-CV\"].append(word)\n",
        "        elif len(jamos[0]) == 2 and len(jamos[1]) == 2 and len(jamos[2]) == 3 and len(jamos[3]) == 3:\n",
        "            words_by_template[\"CV-CV-CVC-CVC\"].append(word)\n",
        "        elif len(jamos[0]) == 2 and len(jamos[1]) == 3 and len(jamos[2]) == 2 and len(jamos[3]) == 2:\n",
        "            words_by_template[\"CV-CVC-CV-CV\"].append(word)\n",
        "        elif len(jamos[0]) == 2 and len(jamos[1]) == 3 and len(jamos[2]) == 2 and len(jamos[3]) == 3:\n",
        "            words_by_template[\"CV-CVC-CV-CVC\"].append(word)\n",
        "        elif len(jamos[0]) == 2 and len(jamos[1]) == 3 and len(jamos[2]) == 3 and len(jamos[3]) == 2:\n",
        "            words_by_template[\"CV-CVC-CVC-CV\"].append(word)\n",
        "        elif len(jamos[0]) == 2 and len(jamos[1]) == 3 and len(jamos[2]) == 2 and len(jamos[3]) == 3:\n",
        "            words_by_template[\"CV-CVC-CV-CVC\"].append(word)\n",
        "        elif len(jamos[0]) == 2 and len(jamos[1]) == 3 and len(jamos[2]) == 3 and len(jamos[3]) == 3:\n",
        "            words_by_template[\"CV-CVC-CVC-CVC\"].append(word)\n",
        "        elif len(jamos[0]) == 3 and len(jamos[1]) == 2 and len(jamos[2]) == 2 and len(jamos[3]) == 2:\n",
        "            words_by_template[\"CVC-CV-CV-CV\"].append(word)\n",
        "        elif len(jamos[0]) == 3 and len(jamos[1]) == 2 and len(jamos[2]) == 2 and len(jamos[3]) == 3:\n",
        "            words_by_template[\"CVC-CV-CV-CVC\"].append(word)\n",
        "        elif len(jamos[0]) == 3 and len(jamos[1]) == 2 and len(jamos[2]) == 3 and len(jamos[3]) == 2:\n",
        "            words_by_template[\"CVC-CV-CVC-CV\"].append(word)\n",
        "        elif len(jamos[0]) == 3 and len(jamos[1]) == 2 and len(jamos[2]) == 3 and len(jamos[3]) == 3:\n",
        "            words_by_template[\"CVC-CV-CVC-CVC\"].append(word)\n",
        "        elif len(jamos[0]) == 3 and len(jamos[1]) == 3 and len(jamos[2]) == 2 and len(jamos[3]) == 2:\n",
        "            words_by_template[\"CVC-CVC-CV-CV\"].append(word)\n",
        "        elif len(jamos[0]) == 3 and len(jamos[1]) == 3 and len(jamos[2]) == 2 and len(jamos[3]) == 3:\n",
        "            words_by_template[\"CVC-CVC-CV-CVC\"].append(word)\n",
        "        elif len(jamos[0]) == 3 and len(jamos[1]) == 3 and len(jamos[2]) == 3 and len(jamos[3]) == 2:\n",
        "            words_by_template[\"CVC-CVC-CVC-CV\"].append(word)\n",
        "        elif len(jamos[0]) == 3 and len(jamos[1]) == 3 and len(jamos[2]) == 3 and len(jamos[3]) == 3:\n",
        "            words_by_template[\"CVC-CVC-CVC-CVC\"].append(word)"
      ],
      "metadata": {
        "id": "sEwRC0Cp1uBl"
      },
      "execution_count": 9,
      "outputs": []
    },
    {
      "cell_type": "code",
      "source": [
        "pruned_words_by_template = {}\n",
        "for template, words in words_by_template.items():\n",
        "    pruned = []\n",
        "    for word in words:\n",
        "        if word.endswith(\"다\"):\n",
        "            continue\n",
        "        if word.endswith(\"히\"):\n",
        "            # 確認できた例外\n",
        "            # 히 히히 이히히\n",
        "            continue\n",
        "        elif word.endswith(\"이\"):\n",
        "            # 아이 어이 이이\n",
        "            continue\n",
        "        pruned.append(word)\n",
        "    pruned_words_by_template[template] = pruned"
      ],
      "metadata": {
        "id": "0S5fGo6LzqwQ"
      },
      "execution_count": 10,
      "outputs": []
    },
    {
      "cell_type": "code",
      "source": [
        "cnt_dic = {k: len(v) for k, v in pruned_words_by_template.items()}\n",
        "\n",
        "plt.figure(figsize=(10, 10))\n",
        "plt.barh(range(len(pruned_words_by_template)), cnt_dic.values(), tick_label=[f\"{k.count('V')}: {k}\"for k in cnt_dic.keys()]) # Vの数は文字数\n",
        "plt.title(\"文字数: テンプレートごとのオノマトペ語彙数\")\n",
        "plt.show()"
      ],
      "metadata": {
        "colab": {
          "base_uri": "https://localhost:8080/",
          "height": 886
        },
        "id": "9ZGDhU0T7VCa",
        "outputId": "de7328e9-7551-496b-a5ae-5ab92f92998e"
      },
      "execution_count": 11,
      "outputs": [
        {
          "output_type": "stream",
          "name": "stderr",
          "text": [
            "/usr/local/lib/python3.10/dist-packages/IPython/core/pylabtools.py:151: UserWarning: Glyph 25968 (\\N{CJK UNIFIED IDEOGRAPH-6570}) missing from current font.\n",
            "  fig.canvas.print_figure(bytes_io, **kw)\n"
          ]
        },
        {
          "output_type": "display_data",
          "data": {
            "text/plain": [
              "<Figure size 1000x1000 with 1 Axes>"
            ],
            "image/png": "[encoded data removed]"
          },
          "metadata": {}
        }
      ]
    },
    {
      "cell_type": "code",
      "source": [
        "with open(\"pruned_words_by_template.json\", \"w\") as f:\n",
        "    json.dump(pruned_words_by_template, f)"
      ],
      "metadata": {
        "id": "4AUyipSrFs4n"
      },
      "execution_count": 12,
      "outputs": []
    },
    {
      "cell_type": "code",
      "source": [
        "set1 = set([f\"{word}{word}\" for word in pruned_words_by_template[\"CV-CV\"]])\n",
        "set2 = set(pruned_words_by_template[\"CV-CV-CV-CV\"])\n",
        "set1_2 = set1 & set2\n",
        "len(set1_2) / len(set1), len(set1_2) / len(set2), set1_2"
      ],
      "metadata": {
        "colab": {
          "base_uri": "https://localhost:8080/"
        },
        "id": "aOQvwb7NkHGK",
        "outputId": "98891914-202b-4222-bde6-e2b30ff5f807"
      },
      "execution_count": 13,
      "outputs": [
        {
          "output_type": "execute_result",
          "data": {
            "text/plain": [
              "(0.0975609756097561,\n",
              " 0.050314465408805034,\n",
              " {'비오비오', '재자재자', '조러조러', '주저주저', '지저지저', '지지지지', '차차차차', '휘유휘유'})"
            ]
          },
          "metadata": {},
          "execution_count": 13
        }
      ]
    },
    {
      "cell_type": "code",
      "source": [
        "set1 = set([f\"{word}{word}\" for word in pruned_words_by_template[\"CV-CVC\"]])\n",
        "set2 = set(pruned_words_by_template[\"CV-CVC-CV-CVC\"])\n",
        "set1_2 = set1 & set2\n",
        "len(set1_2) / len(set1), len(set1_2) / len(set2)"
      ],
      "metadata": {
        "colab": {
          "base_uri": "https://localhost:8080/"
        },
        "id": "nBryOPrDk72Z",
        "outputId": "d9e99d3e-08b3-4081-a757-ef530c1c0d4b"
      },
      "execution_count": 14,
      "outputs": [
        {
          "output_type": "execute_result",
          "data": {
            "text/plain": [
              "(0.891444342226311, 0.581981981981982)"
            ]
          },
          "metadata": {},
          "execution_count": 14
        }
      ]
    },
    {
      "cell_type": "code",
      "source": [
        "set1 = set([f\"{word}{word}\" for word in pruned_words_by_template[\"CVC-CV\"]])\n",
        "set2 = set(pruned_words_by_template[\"CVC-CV-CVC-CV\"])\n",
        "set1_2 = set1 & set2\n",
        "len(set1_2) / len(set1), len(set1_2) / len(set2), set1_2"
      ],
      "metadata": {
        "colab": {
          "base_uri": "https://localhost:8080/"
        },
        "id": "9yg6t8Ikk-0E",
        "outputId": "fafd2652-5245-45d2-b7c1-3f3b9dcb823e"
      },
      "execution_count": 15,
      "outputs": [
        {
          "output_type": "execute_result",
          "data": {
            "text/plain": [
              "(0.2857142857142857,\n",
              " 0.08108108108108109,\n",
              " {'붐빠붐빠', '뿜빠뿜빠', '살래살래', '설레설레', '쌀래쌀래', '썰레썰레'})"
            ]
          },
          "metadata": {},
          "execution_count": 15
        }
      ]
    },
    {
      "cell_type": "code",
      "source": [
        "set1 = set([f\"{word}{word}\" for word in pruned_words_by_template[\"CVC-CVC\"]])\n",
        "set2 = set(pruned_words_by_template[\"CVC-CVC-CVC-CVC\"])\n",
        "set1_2 = set1 & set2\n",
        "len(set1_2) / len(set1), len(set1_2) / len(set2)"
      ],
      "metadata": {
        "colab": {
          "base_uri": "https://localhost:8080/"
        },
        "id": "HgWgW91ujs5s",
        "outputId": "36c13caa-9cad-49c0-a38c-1f67af6e75a0"
      },
      "execution_count": 16,
      "outputs": [
        {
          "output_type": "execute_result",
          "data": {
            "text/plain": [
              "(0.7261146496815286, 0.7278003482298316)"
            ]
          },
          "metadata": {},
          "execution_count": 16
        }
      ]
    },
    {
      "cell_type": "code",
      "source": [
        "# CV-CVC-CV-CVC / CVC-CVC-CVC-CVCのうち、完全な畳語形になっているもの\n",
        "reduplications = []\n",
        "set1 = set([f\"{word}{word}\" for word in pruned_words_by_template[\"CV-CVC\"]])\n",
        "set2 = set(pruned_words_by_template[\"CV-CVC-CV-CVC\"])\n",
        "reduplications += list(set1 & set2)\n",
        "\n",
        "set1 = set([f\"{word}{word}\" for word in pruned_words_by_template[\"CVC-CVC\"]])\n",
        "set2 = set(pruned_words_by_template[\"CVC-CVC-CVC-CVC\"])\n",
        "reduplications += list(set1 & set2)\n",
        "\n",
        "len(reduplications), reduplications[:5]"
      ],
      "metadata": {
        "colab": {
          "base_uri": "https://localhost:8080/"
        },
        "id": "K36DoSBqlFIk",
        "outputId": "b17be8de-dc3b-4c2b-99ef-d454a4124f42"
      },
      "execution_count": 17,
      "outputs": [
        {
          "output_type": "execute_result",
          "data": {
            "text/plain": [
              "(2223, ['하늘하늘', '오복오복', '와락와락', '찌긋찌긋', '미끈미끈'])"
            ]
          },
          "metadata": {},
          "execution_count": 17
        }
      ]
    },
    {
      "cell_type": "code",
      "source": [
        "# CV-CVC / CVC-CVC-CVC-CVCのうち、完全な畳語形になっているもの\n",
        "reduplications = []\n",
        "set1 = set([f\"{word}{word}\" for word in pruned_words_by_template[\"CV-CVC\"]])\n",
        "set2 = set(pruned_words_by_template[\"CV-CVC-CV-CVC\"])\n",
        "reduplications += list(set1 & set2)\n",
        "\n",
        "set1 = set([f\"{word}{word}\" for word in pruned_words_by_template[\"CVC-CVC\"]])\n",
        "set2 = set(pruned_words_by_template[\"CVC-CVC-CVC-CVC\"])\n",
        "reduplications += list(set1 & set2)\n",
        "\n",
        "len(reduplications), reduplications[:5]"
      ],
      "metadata": {
        "id": "9TjF9V4vy15-"
      },
      "execution_count": null,
      "outputs": []
    },
    {
      "cell_type": "code",
      "source": [
        "words_by_first_consonant = {}\n",
        "for word in reduplications:\n",
        "    consonant = hgtk.text.decompose(word, compose_code=\"/\").split(\"/\")[0][0]\n",
        "    words_by_first_consonant.setdefault(consonant, [])\n",
        "    words_by_first_consonant[consonant].append(word)\n",
        "\n",
        "cnt_dic = {k: len(words_by_first_consonant[k]) for k in ['ㅅ', 'ㅆ', 'ㄷ', 'ㅌ', 'ㄸ', 'ㄱ', 'ㅋ', 'ㄲ', 'ㅈ', 'ㅊ', 'ㅉ', 'ㅂ', 'ㅍ', 'ㅃ', 'ㄴ', 'ㅎ', 'ㅁ', 'ㅇ']}\n",
        "\n",
        "plt.figure(figsize=(10, 10))\n",
        "plt.barh(range(len(cnt_dic)), cnt_dic.values(), tick_label=list(cnt_dic.keys()))\n",
        "plt.title(\"反復形オノマトペの子音\")\n",
        "plt.show()"
      ],
      "metadata": {
        "colab": {
          "base_uri": "https://localhost:8080/",
          "height": 851
        },
        "id": "jX5zvP6Em8ke",
        "outputId": "88abe979-1605-436d-d948-bb4b4d9264b9"
      },
      "execution_count": 19,
      "outputs": [
        {
          "output_type": "display_data",
          "data": {
            "text/plain": [
              "<Figure size 1000x1000 with 1 Axes>"
            ],
            "image/png": "[encoded data removed]"
          },
          "metadata": {}
        }
      ]
    },
    {
      "cell_type": "code",
      "source": [],
      "metadata": {
        "id": "nBrpgI6nnuyu"
      },
      "execution_count": 19,
      "outputs": []
    }
  ],
  "metadata": {
    "colab": {
      "name": "Colaboratory へようこそ",
      "provenance": [],
      "include_colab_link": true
    },
    "kernelspec": {
      "display_name": "Python 3",
      "name": "python3"
    }
  },
  "nbformat": 4,
  "nbformat_minor": 0
}